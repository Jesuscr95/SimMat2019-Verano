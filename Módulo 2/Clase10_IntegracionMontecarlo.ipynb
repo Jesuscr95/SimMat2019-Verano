{
 "cells": [
  {
   "cell_type": "markdown",
   "metadata": {},
   "source": [
    "# Integración numérica Montecarlo\n",
    "\n",
    "**Referencia:**\n",
    "- https://ocw.mit.edu/courses/mechanical-engineering/2-086-numerical-computation-for-mechanical-engineers-fall-2014/nutshells-guis/MIT2_086F14_Monte_Carlo.pdf\n",
    "- http://ta.twi.tudelft.nl/mf/users/oosterle/oosterlee/lec8-hit-2009.pdf\n",
    "- Sauer, Timothy. *Análisis Numérico*, 2da. Edición, ISBN: 978-607-32-2059-0.\n",
    "\n",
    "<img style=\"float: center; margin: 0px 0px 15px 15px;\" src=\"https://upload.wikimedia.org/wikipedia/commons/f/f2/Integral_as_region_under_curve.svg\" width=\"300px\" height=\"100px\" />\n",
    "\n"
   ]
  },
  {
   "cell_type": "markdown",
   "metadata": {},
   "source": [
    "## Motivación\n",
    "\n",
    "En análisis de ingeniería, normalmente debemos evaluar integrales definidas sobre un dominio complejo o en un espacio de dimensión alta.\n",
    "\n",
    "> Por ejemplo, podríamos querer calcular:\n",
    "> - la deflexión en una viga de geometría complicada, \n",
    "> - el volumen de una parte tridimensional de una aeronave,\n",
    "> - o evaluar alguna medida de rendimiento (rentabilidad) en algún proceso que sea expresada como una integral de alguna función sin antiderivada primitiva (que se pueda expresar en términos de funciones elementales).\n",
    "\n",
    "A la mano tenemos herramientas de integración analítica cuando tanto el espacio de integración como la función a integrar son simples. Cuando la función a integrar es difícil (incluso, imposible) de integrar podemos aún recurrir a métodos numéricos de integración. \n",
    "\n",
    "> Desafortunadamente, los métodos determinísiticos de integración fallan cuando:\n",
    "> - la región es demasiado compleja para discretizarla,\n",
    "> - o la función a integrar es demasiado irregular,\n",
    "> - o la convergencia es demasiado lenta debido a la alta dimensionalidad del espacio de integración (ver [Maldición de la dimensionalidad](https://es.wikipedia.org/wiki/Maldici%C3%B3n_de_la_dimensi%C3%B3n)).\n",
    "\n",
    "Por eso en esta clase veremos una *técnica alternativa de integración numérica*: **Integración Montecarlo**."
   ]
  },
  {
   "cell_type": "markdown",
   "metadata": {},
   "source": [
    "### Ejemplos de funciones sin antiderivada primitiva.\n",
    "\n",
    "De su curso de cálculo integral seguro recordarán (o estarán viendo) que existen funciones cuya integral no tiene primitiva. Es decir, **que no podemos encontrar una función que se pueda expresar en forma de funciones elementales cuya derivada sea tal función**.\n",
    "\n",
    "Esto **no significa que dicha función no se pueda integrar**, ya que sabemos que cualquier función continua es integrable (y la mayoría de funciones que vemos a ese nivel, lo son). Lo que ocurre es que no podemos expresar dicha integral de una forma sencilla (por ejemplo, en función de exponenciales, senos, cosenos, logaritmos...).\n",
    "\n",
    "Algunas integrales que no son elementales son:\n",
    "- $\\int e^{p(x)}\\text{d}x$, donde $p(x)$ es un polinomio de grado mayor o igual a dos.\n",
    "- $\\int \\frac{1}{log(x)}\\text{d}x$.\n",
    "- $\\int \\frac{sin(x)}{x}\\text{d}x$\n",
    "\n",
    "**Referencia:**\n",
    "- https://www.gaussianos.com/funciones-sin-primitiva-elemental/"
   ]
  },
  {
   "cell_type": "markdown",
   "metadata": {},
   "source": [
    "### Ejemplos de regiones difíciles de discretizar."
   ]
  },
  {
   "cell_type": "code",
   "execution_count": null,
   "metadata": {},
   "outputs": [],
   "source": [
    "from IPython.display import YouTubeVideo\n",
    "YouTubeVideo('Ti5zUD08w5s')"
   ]
  },
  {
   "cell_type": "code",
   "execution_count": null,
   "metadata": {},
   "outputs": [],
   "source": [
    "YouTubeVideo('jmsFC0mNayM')"
   ]
  },
  {
   "cell_type": "markdown",
   "metadata": {},
   "source": [
    "___\n",
    "## Integración Montecarlo tipo 1\n",
    "Se basa en la definición de *valor promedio* de una función y en el *valor esperado* de una *variable aleatoria uniforme*.\n",
    "\n",
    "Presentamos esto mediante un ejemplo.\n",
    "\n",
    "**Ejemplo.** Aproxime el área bajo la curva $y=(x-2)^2$ en el intervalo $\\left[0,1\\right]$.\n",
    "\n",
    "Veamos primero cómo luce dicha área."
   ]
  },
  {
   "cell_type": "code",
   "execution_count": 1,
   "metadata": {},
   "outputs": [],
   "source": [
    "# Importamos librería para graficar y numpy\n",
    "import numpy as np\n",
    "import matplotlib.pyplot as plt\n",
    "%matplotlib inline"
   ]
  },
  {
   "cell_type": "code",
   "execution_count": 2,
   "metadata": {},
   "outputs": [],
   "source": [
    "# Función f(x)=(x-2)**2\n",
    "def f(x):\n",
    "    return (x-2)**2"
   ]
  },
  {
   "cell_type": "code",
   "execution_count": 4,
   "metadata": {},
   "outputs": [
    {
     "data": {
      "image/png": "[encoded data removed]",
      "text/plain": [
       "<Figure size 576x432 with 1 Axes>"
      ]
     },
     "metadata": {},
     "output_type": "display_data"
    }
   ],
   "source": [
    "# Dibujamos la región\n",
    "x = np.linspace(0,1,650)\n",
    "y = f(x)\n",
    "\n",
    "plt.figure(figsize=(8,6))\n",
    "plt.fill_between(x,y)\n",
    "plt.text(0.45,0.8,'$\\mathcal{D}$',Fontsize=24)\n",
    "plt.show()"
   ]
  },
  {
   "cell_type": "markdown",
   "metadata": {},
   "source": [
    "Entonces, lo que queremos es aproximar el área de la región $\\mathcal{D}$. Llamaremos esta área $A(\\mathcal{D})$.\n",
    "\n",
    "De cálculo integral, sabemos que\n",
    "\n",
    "$$A(\\mathcal{D})=\\int_{0}^{1}y\\text{d}x=\\int_{0}^{1}(x-2)^2\\text{d}x$$."
   ]
  },
  {
   "cell_type": "markdown",
   "metadata": {},
   "source": [
    "Por *definición*, el **valor promedio** de una función $f:\\left[a,b\\right]\\to\\mathbb{R}$ en un intervalo $\\left[a,b\\right]$ es\n",
    "\n",
    "$$\\frac{1}{b-a}\\int_{a}^{b}f(x)\\text{d}x.$$\n",
    "\n",
    "Entonces, el área bajo la curva $y=(x-2)^2$ es exactamente el valor promedio de $f(x)=(x-2)^2$ en $\\left[0,1\\right]$. Este valor promedio puede aproximarse mediante el promedio de los valores de la función en puntos aleatorios **uniformemente distribuidos** en el intervalo $\\left[0,1\\right]$. Es decir,\n",
    "\n",
    "$$A(\\mathcal{D})=\\int_{0}^{1}(x-2)^2\\text{d}x=\\int_{0}^{1}f(x)\\text{d}x\\approx \\frac{1}{N}\\sum_{i=1}^{N}f(u_i)=\\frac{1}{N}\\sum_{i=1}^{N}(u_i-2)^2$$,"
   ]
  },
  {
   "cell_type": "markdown",
   "metadata": {},
   "source": [
    "donde $u_i$ son realizaciones de la variable aleatoria $U\\sim\\mathcal{U}\\left[0,1\\right]$ ($U$ distribuye uniformemente en el intervalo $\\left[0,1\\right]$)."
   ]
  },
  {
   "cell_type": "markdown",
   "metadata": {},
   "source": [
    "**¿Cómo construir vectores de números aleatorios?**\n",
    "- Ver [numpy.random](https://docs.scipy.org/doc/numpy-1.10.0/reference/routines.random.html).\n",
    "\n",
    "En este caso necesitamos $N$ números aleatorios uniformemente distribuidos..."
   ]
  },
  {
   "cell_type": "code",
   "execution_count": 6,
   "metadata": {},
   "outputs": [
    {
     "name": "stdout",
     "output_type": "stream",
     "text": [
      "Help on built-in function rand:\n",
      "\n",
      "rand(...) method of mtrand.RandomState instance\n",
      "    rand(d0, d1, ..., dn)\n",
      "    \n",
      "    Random values in a given shape.\n",
      "    \n",
      "    Create an array of the given shape and populate it with\n",
      "    random samples from a uniform distribution\n",
      "    over ``[0, 1)``.\n",
      "    \n",
      "    Parameters\n",
      "    ----------\n",
      "    d0, d1, ..., dn : int, optional\n",
      "        The dimensions of the returned array, should all be positive.\n",
      "        If no argument is given a single Python float is returned.\n",
      "    \n",
      "    Returns\n",
      "    -------\n",
      "    out : ndarray, shape ``(d0, d1, ..., dn)``\n",
      "        Random values.\n",
      "    \n",
      "    See Also\n",
      "    --------\n",
      "    random\n",
      "    \n",
      "    Notes\n",
      "    -----\n",
      "    This is a convenience function. If you want an interface that\n",
      "    takes a shape-tuple as the first argument, refer to\n",
      "    np.random.random_sample .\n",
      "    \n",
      "    Examples\n",
      "    --------\n",
      "    >>> np.random.rand(3,2)\n",
      "    array([[ 0.14022471,  0.96360618],  #random\n",
      "           [ 0.37601032,  0.25528411],  #random\n",
      "           [ 0.49313049,  0.94909878]]) #random\n",
      "\n"
     ]
    }
   ],
   "source": [
    "# ayuda en la funcion uniform de la libreria numpy.random\n",
    "help(np.random.rand)"
   ]
  },
  {
   "cell_type": "code",
   "execution_count": 25,
   "metadata": {},
   "outputs": [
    {
     "data": {
      "text/plain": [
       "-0.005061774102208982"
      ]
     },
     "execution_count": 25,
     "metadata": {},
     "output_type": "execute_result"
    }
   ],
   "source": [
    "# Número de puntos para aproximar\n",
    "N= 10000\n",
    "# Secuencia de N números aleatorios entre 0 y 1\n",
    "u = np.random.rand(N)\n",
    "# Aproximación del área\n",
    "AD_approx = np.mean((u-2)**2)\n",
    "AD_approx-(7/3)"
   ]
  },
  {
   "cell_type": "markdown",
   "metadata": {},
   "source": [
    "En este caso, la integral se puede hacer fácilmente. Comparemos el resultado con el valor real:\n",
    "\n",
    "$$A(\\mathcal{D})=\\int_{0}^{1}(x-2)^2\\text{d}x=\\left.\\frac{(x-2)^3}{3}\\right|_{x=0}^{x=1}=\\frac{7}{3}$$"
   ]
  },
  {
   "cell_type": "markdown",
   "metadata": {},
   "source": [
    "Hagamos una tabla viendo:\n",
    "- cantidad de terminos\n",
    "- valor de la aproximacion\n",
    "- error relativo"
   ]
  },
  {
   "cell_type": "code",
   "execution_count": 26,
   "metadata": {},
   "outputs": [],
   "source": [
    "# Importamos pandas\n",
    "import pandas as pd"
   ]
  },
  {
   "cell_type": "code",
   "execution_count": 34,
   "metadata": {},
   "outputs": [
    {
     "data": {
      "text/html": [
       "<div>\n",
       "<style scoped>\n",
       "    .dataframe tbody tr th:only-of-type {\n",
       "        vertical-align: middle;\n",
       "    }\n",
       "\n",
       "    .dataframe tbody tr th {\n",
       "        vertical-align: top;\n",
       "    }\n",
       "\n",
       "    .dataframe thead th {\n",
       "        text-align: right;\n",
       "    }\n",
       "</style>\n",
       "<table border=\"1\" class=\"dataframe\">\n",
       "  <thead>\n",
       "    <tr style=\"text-align: right;\">\n",
       "      <th></th>\n",
       "      <th>Aproximación</th>\n",
       "      <th>Error</th>\n",
       "    </tr>\n",
       "  </thead>\n",
       "  <tbody>\n",
       "    <tr>\n",
       "      <th>10.0</th>\n",
       "      <td>2.42847</td>\n",
       "      <td>0.0951393</td>\n",
       "    </tr>\n",
       "    <tr>\n",
       "      <th>100.0</th>\n",
       "      <td>2.31539</td>\n",
       "      <td>0.0179436</td>\n",
       "    </tr>\n",
       "    <tr>\n",
       "      <th>1000.0</th>\n",
       "      <td>2.37782</td>\n",
       "      <td>0.0444857</td>\n",
       "    </tr>\n",
       "    <tr>\n",
       "      <th>10000.0</th>\n",
       "      <td>2.32001</td>\n",
       "      <td>0.0133209</td>\n",
       "    </tr>\n",
       "    <tr>\n",
       "      <th>100000.0</th>\n",
       "      <td>2.33994</td>\n",
       "      <td>0.00661156</td>\n",
       "    </tr>\n",
       "    <tr>\n",
       "      <th>1000000.0</th>\n",
       "      <td>2.33245</td>\n",
       "      <td>0.000879355</td>\n",
       "    </tr>\n",
       "    <tr>\n",
       "      <th>10000000.0</th>\n",
       "      <td>2.33305</td>\n",
       "      <td>0.00028801</td>\n",
       "    </tr>\n",
       "  </tbody>\n",
       "</table>\n",
       "</div>"
      ],
      "text/plain": [
       "           Aproximación        Error\n",
       "10.0            2.42847    0.0951393\n",
       "100.0           2.31539    0.0179436\n",
       "1000.0          2.37782    0.0444857\n",
       "10000.0         2.32001    0.0133209\n",
       "100000.0        2.33994   0.00661156\n",
       "1000000.0       2.33245  0.000879355\n",
       "10000000.0      2.33305   0.00028801"
      ]
     },
     "execution_count": 34,
     "metadata": {},
     "output_type": "execute_result"
    }
   ],
   "source": [
    "# Valor exacto del area AD\n",
    "AD = 7/3\n",
    "# Cantidades de términos 10, 100, ..., 10**7 (numpy.logspace)\n",
    "N = np.logspace(1,7,7)\n",
    "# Crear un DataFrame cuyo índice sea la cantidad de términos\n",
    "# y sus columnas sean el valor aproximado de la integral y\n",
    "# el error absoluto\n",
    "tabla = pd.DataFrame(index=N, columns=['Aproximación','Error'])\n",
    "\n",
    "for n in N:\n",
    "    u = np.random.rand(n.astype(int))\n",
    "    AD_approx = np.mean((u-2)**2)\n",
    "    tabla.loc[n,'Aproximación'] = AD_approx\n",
    "\n",
    "tabla['Error'] = np.abs(tabla['Aproximación']-AD)\n",
    "\n",
    "tabla"
   ]
  },
  {
   "cell_type": "markdown",
   "metadata": {},
   "source": [
    "Ver que los resultados son distintos cada vez (¿porqué?). Sin embargo, se aproximan más o menos en la misma medida."
   ]
  },
  {
   "cell_type": "markdown",
   "metadata": {},
   "source": [
    "**Aproximación de integrales en intervalos distintos a $\\left[0,1\\right]$.**\n",
    "\n",
    "Sin embargo, no todas las integrales que hacemos son en el intervalo $\\left[0,1\\right]$. En general, podemos integrar cualquier función continua en el intervalo $\\left[a,b\\right]$, donde $a,b\\in\\mathbb{R}$ con $a<b$.\n",
    "\n",
    "Sea $f:\\left[a,b\\right]\\to\\mathbb{R}$ una función continua en el intervalo $\\left(a,b\\right)$ (por lo tanto es integrable endicho intervalo). Queremos resolver:\n",
    "\n",
    "$$\\int_{a}^{b}f(x)\\text{d}x.$$\n",
    "\n",
    "¿Cómo podemos usar la idea del valor promedio para resolver esto?"
   ]
  },
  {
   "cell_type": "markdown",
   "metadata": {},
   "source": [
    "El valor promedio de $f$ en $\\left[a,b\\right]$ es:\n",
    "\n",
    "$$\\frac{1}{b-a}\\int_{a}^{b}f(x)\\text{d}x.$$\n",
    "\n",
    "Este valor promedio puede aproximarse mediante el promedio de $N$ valores de la función en puntos aleatorios **uniformemente distribuidos** en el intervalo $\\left[a,b\\right]$. Es decir,\n",
    "\n",
    "$$\\frac{1}{b-a}\\int_{a}^{b}f(x)\\text{d}x\\approx \\frac{1}{N}\\sum_{i=1}^{N}f(u_i)$$,\n",
    "\n",
    "donde $u_i$ son realizaciones de la variable aleatoria $U\\sim\\mathcal{U}\\left[a,b\\right]$ ($U$ distribuye uniformemente en el intervalo $\\left[a,b\\right]$).\n",
    "\n",
    "Finalmente, la aproximación montecarlo tipo 1 con $N$ términos es \n",
    "\n",
    "$$\\int_{a}^{b}f(x)\\text{d}x\\approx \\frac{b-a}{N}\\sum_{i=1}^{N}f(u_i)$$,"
   ]
  },
  {
   "cell_type": "markdown",
   "metadata": {},
   "source": [
    "Escribamos una función que tenga como entradas:\n",
    "- la función a integrar $f$,\n",
    "- los límites de integración $a$ y $b$, y\n",
    "- el número de términos que se usará en la aproximación $N$,\n",
    "\n",
    "y que devuelva la aproximación montecarlo tipo 1 de la integral $\\int_{a}^{b}f(x)\\text{d}x$."
   ]
  },
  {
   "cell_type": "code",
   "execution_count": 42,
   "metadata": {},
   "outputs": [],
   "source": [
    "# Escribir la función acá\n",
    "def montecarlo1(f,a,b,N):\n",
    "    u = (b-a)*np.random.rand(N) + a\n",
    "    return (b-a)*np.mean(f(u))"
   ]
  },
  {
   "cell_type": "markdown",
   "metadata": {},
   "source": [
    "**Actividad.** Utilizar la anterior función para realizar las siguientes integrales. Poner los resultados en una tabla cuyas filas correspondan a la cantidad de términos utilizados en la aproximación (usar 10, 100, 1000, 10000 y 100000 términos) y cuyas columnas correspondan a las funciones.\n",
    "- $\\int_{2}^{2.1} e^{x^2}\\text{d}x$.\n",
    "- $\\int_{2}^{2.1} \\frac{1}{log(x)}\\text{d}x$.\n",
    "- $\\int_{2}^{2.1} \\frac{sin(x)}{x}\\text{d}x$."
   ]
  },
  {
   "cell_type": "code",
   "execution_count": 43,
   "metadata": {},
   "outputs": [],
   "source": [
    "# Resolver\n",
    "# 1. Definir las funciones que vamos a integrar\n",
    "def f1(x):\n",
    "    return np.exp(x**2)\n",
    "\n",
    "def f2(x):\n",
    "    return 1/(np.log10(x))\n",
    "\n",
    "def f3(x):\n",
    "    return np.sin(x)/x\n",
    "\n",
    "# 2. Definimos los limites de integracion\n",
    "a,b = 2,2.1\n",
    "\n",
    "# 3. Definimos cantidades de terminos\n",
    "N = (np.logspace(1,5,5)).astype(int)"
   ]
  },
  {
   "cell_type": "code",
   "execution_count": 45,
   "metadata": {},
   "outputs": [
    {
     "data": {
      "text/html": [
       "<div>\n",
       "<style scoped>\n",
       "    .dataframe tbody tr th:only-of-type {\n",
       "        vertical-align: middle;\n",
       "    }\n",
       "\n",
       "    .dataframe tbody tr th {\n",
       "        vertical-align: top;\n",
       "    }\n",
       "\n",
       "    .dataframe thead th {\n",
       "        text-align: right;\n",
       "    }\n",
       "</style>\n",
       "<table border=\"1\" class=\"dataframe\">\n",
       "  <thead>\n",
       "    <tr style=\"text-align: right;\">\n",
       "      <th></th>\n",
       "      <th>Aprox f1</th>\n",
       "      <th>Aprox f2</th>\n",
       "      <th>Aprox f3</th>\n",
       "    </tr>\n",
       "    <tr>\n",
       "      <th>Cantidad de términos</th>\n",
       "      <th></th>\n",
       "      <th></th>\n",
       "      <th></th>\n",
       "    </tr>\n",
       "  </thead>\n",
       "  <tbody>\n",
       "    <tr>\n",
       "      <th>10</th>\n",
       "      <td>6.10672</td>\n",
       "      <td>0.324391</td>\n",
       "      <td>0.0438323</td>\n",
       "    </tr>\n",
       "    <tr>\n",
       "      <th>100</th>\n",
       "      <td>6.58052</td>\n",
       "      <td>0.320551</td>\n",
       "      <td>0.0432911</td>\n",
       "    </tr>\n",
       "    <tr>\n",
       "      <th>1000</th>\n",
       "      <td>6.76266</td>\n",
       "      <td>0.320984</td>\n",
       "      <td>0.0432832</td>\n",
       "    </tr>\n",
       "    <tr>\n",
       "      <th>10000</th>\n",
       "      <td>6.75209</td>\n",
       "      <td>0.32086</td>\n",
       "      <td>0.0432878</td>\n",
       "    </tr>\n",
       "    <tr>\n",
       "      <th>100000</th>\n",
       "      <td>6.74263</td>\n",
       "      <td>0.320939</td>\n",
       "      <td>0.0432803</td>\n",
       "    </tr>\n",
       "  </tbody>\n",
       "</table>\n",
       "</div>"
      ],
      "text/plain": [
       "                     Aprox f1  Aprox f2   Aprox f3\n",
       "Cantidad de términos                              \n",
       "10                    6.10672  0.324391  0.0438323\n",
       "100                   6.58052  0.320551  0.0432911\n",
       "1000                  6.76266  0.320984  0.0432832\n",
       "10000                 6.75209   0.32086  0.0432878\n",
       "100000                6.74263  0.320939  0.0432803"
      ]
     },
     "execution_count": 45,
     "metadata": {},
     "output_type": "execute_result"
    }
   ],
   "source": [
    "tabla2 = pd.DataFrame(index=N, columns=['Aprox f1','Aprox f2','Aprox f3'])\n",
    "tabla2.index.name = 'Cantidad de términos'\n",
    "\n",
    "for n in N:\n",
    "    tabla2.loc[n,'Aprox f1'] = montecarlo1(f1,a,b,n)\n",
    "    tabla2.loc[n,'Aprox f2'] = montecarlo1(f2,a,b,n)\n",
    "    tabla2.loc[n,'Aprox f3'] = montecarlo1(f3,a,b,n)\n",
    "\n",
    "tabla2"
   ]
  },
  {
   "cell_type": "markdown",
   "metadata": {},
   "source": [
    "___\n",
    "## Integración Montecarlo tipo 2\n",
    "Con la integración montecarlo tipo 1 pudimos aproximar integrales de funciones continuas de una variable en un intervalo dado. En realidad este mismo análisis se puede ampliar para aproximar integrales definidas de funciones continuas de varias variables (integrales sobre áreas, volúmenes e hipervolúmenes) dado que la noción de valor promedio de una función se extiende a cualquier dimensión.\n",
    "\n",
    "**Este es en realidad el caso interesante, pues las integrales de funciones complicadas también se pueden aproximar por métodos numéricos clásicos, pero cuando la dimensión aumenta es cuando montecarlo se vuelve una herramienta relevante. Dado que no lo veremos en clase por la limitación de que la mayoría no han visto cálculo en varias variables, este tema puede ser elegido como proyecto de módulo, donde se exploraría también como mejorar la aproximación de integrales montecarlo.**\n",
    "\n",
    "Como vimos en el ejemplo (y como debe ser claro de su curso de cálculo integral) una de las aplicaciones más importantes de la integración es hallar áreas. Y no solo el área bajo una curva, sino áreas entre curvas y áreas de regiones más complicadas."
   ]
  },
  {
   "cell_type": "markdown",
   "metadata": {},
   "source": [
    "Antes de ver la integración montecarlo tipo 2, ¿cómo podemos usar la integración montecarlo tipo 1 para aproximar el área entre curvas?\n",
    "\n",
    "**Ejemplo.** Aproxime el área entre las curvas $y=x$, y $y=x^2$ en el intervalo $\\left[0,1\\right]$.\n",
    "\n",
    "Veamos primero cómo luce dicha área."
   ]
  },
  {
   "cell_type": "code",
   "execution_count": 46,
   "metadata": {},
   "outputs": [
    {
     "data": {
      "image/png": "[encoded data removed]",
      "text/plain": [
       "<Figure size 432x288 with 1 Axes>"
      ]
     },
     "metadata": {},
     "output_type": "display_data"
    }
   ],
   "source": [
    "x = np.linspace(-0.1,1.1)\n",
    "y = x**2\n",
    "\n",
    "plt.plot(x,x,'k--',label='$y=x$')\n",
    "plt.plot(x,y,'k',label='$y=x^2$')\n",
    "plt.fill_between(x,x,y)\n",
    "plt.text(0.5,0.4,'$\\mathcal{D}$',fontsize=20)\n",
    "plt.legend(loc='best')\n",
    "plt.show()"
   ]
  },
  {
   "cell_type": "markdown",
   "metadata": {},
   "source": [
    "De cálculo integral, sabemos que\n",
    "\n",
    "$$A(\\mathcal{D})=\\int_{0}^{1}(x-x^2)\\text{d}x.$$\n",
    "\n",
    "Entonces..."
   ]
  },
  {
   "cell_type": "code",
   "execution_count": 49,
   "metadata": {},
   "outputs": [
    {
     "data": {
      "text/plain": [
       "1.7372889865224783e-05"
      ]
     },
     "execution_count": 49,
     "metadata": {},
     "output_type": "execute_result"
    }
   ],
   "source": [
    "# Usar la funcion montecarlo1\n",
    "def g(x):\n",
    "    return x-x**2\n",
    "\n",
    "np.abs(montecarlo1(g,0,1,10**6)-1/6)+"
   ]
  },
  {
   "cell_type": "markdown",
   "metadata": {},
   "source": [
    "De modo que si la región se puede describir fácilmente, entonces podemos aproximar la integral sin problema."
   ]
  },
  {
   "cell_type": "markdown",
   "metadata": {},
   "source": [
    "Pero, ¿qué pasa si la geometría de la región no se puede describir fácilmente?"
   ]
  },
  {
   "cell_type": "markdown",
   "metadata": {},
   "source": [
    "Como en el caso anterior, motivaremos el método con un caso conocido. Vamos a aproximar el valor de $\\pi$ usando el área de un círculo unitario.\n",
    "\n",
    "Dibujemos el círculo unitario en la región $\\mathcal{R}=\\left[-1,1\\right]\\times\\left[-1,1\\right]$."
   ]
  },
  {
   "cell_type": "code",
   "execution_count": null,
   "metadata": {},
   "outputs": [],
   "source": []
  },
  {
   "cell_type": "code",
   "execution_count": null,
   "metadata": {},
   "outputs": [],
   "source": []
  },
  {
   "cell_type": "markdown",
   "metadata": {},
   "source": [
    "Si aproximamos $A(\\mathcal{D})$ aproximamos el valor de $\\pi$, pues el área del círculo unitario es:\n",
    "\n",
    "$$A(\\mathcal{D})=\\pi(1)^2=\\pi.$$\n",
    "\n",
    "Por otra parte es claro que el área de la región $\\mathcal{R}=\\left[-1,1\\right]\\times\\left[-1,1\\right]$ es\n",
    "\n",
    "$$A(\\mathcal{R})=4.$$"
   ]
  },
  {
   "cell_type": "markdown",
   "metadata": {},
   "source": [
    "Ahora, haremos uso de nuestro generador de números aleatorios. Supongamos que escogemos un punto aleatorio en la región $\\mathcal{R}=\\left[-1,1\\right]\\times\\left[-1,1\\right]$. Describimos este punto como $(X,Y)$ para $X$ e $Y$ variables aleatorias uniformes sobre el intervalo $\\left[-1,1\\right]$.\n",
    "\n",
    "¿Cómo generamos puntos aleatorios en un rectángulo?"
   ]
  },
  {
   "cell_type": "code",
   "execution_count": null,
   "metadata": {},
   "outputs": [],
   "source": [
    "# Se generan variables aleatorias para cada dimensión\n"
   ]
  },
  {
   "cell_type": "code",
   "execution_count": null,
   "metadata": {},
   "outputs": [],
   "source": [
    "# Se hace el producto cartesiano entre ellas\n"
   ]
  },
  {
   "cell_type": "markdown",
   "metadata": {},
   "source": [
    "La probabilidad de que el punto $(X,Y)$ esté en el círculo unitario $\\mathcal{D}$ es\n",
    "\n",
    "$$P((X,Y)\\in\\mathcal{D})=\\frac{A(\\mathcal{D})}{A(\\mathcal{R})}=\\frac{\\pi}{4}.$$"
   ]
  },
  {
   "cell_type": "markdown",
   "metadata": {},
   "source": [
    "Luego, definimos una variable aleatoria de Bernoulli $B$ de manera que\n",
    "\n",
    "$$B=\\left\\lbrace\\begin{array}{ccc}0 & \\text{si} & (X,Y)\\notin\\mathcal{D}\\\\1 & \\text{si} & (X,Y)\\in\\mathcal{D} \\end{array}\\right.=\\left\\lbrace\\begin{array}{ccc}0 & \\text{si} & X^2+Y^2>1\\\\1 & \\text{si} & X^2+Y^2\\leq 1 \\end{array}\\right..$$\n",
    "\n",
    "Entonces, el valor esperado de la variable aleatoria $B$ es\n",
    "\n",
    "$$E\\left[B\\right]=\\theta=P((X,Y)\\in\\mathcal{D})=\\frac{A(\\mathcal{D})}{A(\\mathcal{R})}.$$"
   ]
  },
  {
   "cell_type": "markdown",
   "metadata": {},
   "source": [
    "De lo anterior, una estimación de $\\theta$ se puede obtener como\n",
    "\n",
    "$$\\theta=\\frac{A(\\mathcal{D})}{A(\\mathcal{R})}\\approx \\frac{1}{N}\\sum_{i=1}^{N}b_i,$$\n",
    "\n",
    "donde \n",
    "\n",
    "$$b_i=\\left\\lbrace\\begin{array}{ccc}0 & \\text{si} & x_i^2+y_i^2>1\\\\1 & \\text{si} & x_i^2+y_i^2\\leq 1 \\end{array}\\right.$$\n",
    "\n",
    "son realizaciones de la variable aleatoria $B$, que a su vez es producto de las realizaciones $x_i$ e $y_i$ de las variables aleatorias $X$ e $Y$, respectivamente."
   ]
  },
  {
   "cell_type": "markdown",
   "metadata": {},
   "source": [
    "Finalmente, la aproximación montecarlo tipo 2 con $N$ términos es \n",
    "\n",
    "$$A(\\mathcal{D})\\approx \\frac{A(\\mathcal{R})}{N}\\sum_{i=1}^{N}b_i.$$"
   ]
  },
  {
   "cell_type": "code",
   "execution_count": null,
   "metadata": {},
   "outputs": [],
   "source": [
    "# Función que devuelve True si está dentro del círculo\n",
    "# y False de lo contrario\n"
   ]
  },
  {
   "cell_type": "code",
   "execution_count": null,
   "metadata": {},
   "outputs": [],
   "source": []
  },
  {
   "cell_type": "code",
   "execution_count": null,
   "metadata": {},
   "outputs": [],
   "source": [
    "# Área del rectángulo\n",
    "\n",
    "# Aproximación Montecarlo tipo 2\n"
   ]
  },
  {
   "cell_type": "markdown",
   "metadata": {},
   "source": [
    "De nuevo, comparemos con el valor exacto."
   ]
  },
  {
   "cell_type": "code",
   "execution_count": null,
   "metadata": {},
   "outputs": [],
   "source": [
    "# Valor exacto del area AD\n",
    "\n",
    "# Cantidades de términos 10, 100, ..., 10**7 (numpy.logspace)\n",
    "\n",
    "# Crear un DataFrame cuyo índice sea la cantidad de términos\n",
    "# y sus columnas sean el valor aproximado de la integral y\n",
    "# el error relativo\n",
    "\n"
   ]
  },
  {
   "cell_type": "markdown",
   "metadata": {},
   "source": [
    "Escribamos una función que tenga como entradas:\n",
    "- la función que describe la region $region$,\n",
    "- los límites de la region $a_1$, $b_1$, $a_2$ y $b_2$, con $R=\\left[a_1,b_1\\right]\\times\\left[a_2,b_2\\right]$ y\n",
    "- el número de términos que se usará en la aproximación $N$,\n",
    "\n",
    "y que devuelva la aproximación montecarlo tipo 2 del area de la region."
   ]
  },
  {
   "cell_type": "code",
   "execution_count": null,
   "metadata": {},
   "outputs": [],
   "source": [
    "# Escribir la función acá\n"
   ]
  },
  {
   "cell_type": "markdown",
   "metadata": {},
   "source": [
    "**Actividad.** Utilizar la anterior función para aproximar el área de la región descrita por\n",
    "\n",
    "$$4(2x-1)^4+8(2y-1)^8<1+2(2y-1)^3(3x-2)^2$$\n",
    "\n",
    "Poner los resultados en una tabla cuyas filas correspondan a la cantidad de términos utilizados en la aproximación (usar 10, 100, 1000, 10000 y 100000 términos)."
   ]
  },
  {
   "cell_type": "code",
   "execution_count": null,
   "metadata": {},
   "outputs": [],
   "source": []
  },
  {
   "cell_type": "code",
   "execution_count": null,
   "metadata": {},
   "outputs": [],
   "source": []
  },
  {
   "cell_type": "code",
   "execution_count": null,
   "metadata": {},
   "outputs": [],
   "source": [
    "##~\n"
   ]
  },
  {
   "cell_type": "code",
   "execution_count": null,
   "metadata": {},
   "outputs": [],
   "source": [
    "# Resolver\n"
   ]
  },
  {
   "cell_type": "markdown",
   "metadata": {},
   "source": [
    "___\n",
    "## Error de aproximación de integrales por montecarlo\n",
    "Ver [documento mit](https://ocw.mit.edu/courses/mechanical-engineering/2-086-numerical-computation-for-mechanical-engineers-fall-2014/nutshells-guis/MIT2_086F14_Monte_Carlo.pdf), página 5."
   ]
  },
  {
   "cell_type": "markdown",
   "metadata": {},
   "source": [
    "## TAREA\n",
    "1. Realizar las siguientes integrales. Poner los resultados en una tabla cuyas filas correspondan a la cantidad de términos utilizados en la aproximación (usar 10, 100, 1000, 10000 y 100000 términos) y cuyas columnas correspondan a las funciones.\n",
    "    + $\\int_{1}^{3} e^{x}\\log(x)\\text{d}x$.\n",
    "    + $\\int_1^3 \\sin(x)\\ln(x) \\text{d}x$\n",
    "\n",
    "2. Aproximar el área de la región descrita por\n",
    "\n",
    "$$x^2+2y^2\\leq-2x+8y-7$$\n",
    "\n",
    "Poner los resultados en una tabla cuyas filas correspondan a la cantidad de términos utilizados en la aproximación (usar 10, 100, 1000, 10000 y 100000 términos) y en las columnas el valor de aproximación y el error relativo.\n",
    "\n",
    "Definir unos límites adecuados $a_1$, $b_1$, $a_2$ y $b_2$, para la región $R=\\left[a_1,b_1\\right]\\times\\left[a_2,b_2\\right]$"
   ]
  },
  {
   "cell_type": "markdown",
   "metadata": {},
   "source": [
    "<script>\n",
    "  $(document).ready(function(){\n",
    "    $('div.prompt').hide();\n",
    "    $('div.back-to-top').hide();\n",
    "    $('nav#menubar').hide();\n",
    "    $('.breadcrumb').hide();\n",
    "    $('.hidden-print').hide();\n",
    "  });\n",
    "</script>\n",
    "\n",
    "<footer id=\"attribution\" style=\"float:right; color:#808080; background:#fff;\">\n",
    "Created with Jupyter by Cristian Camilo Zapata Zuluaga.\n",
    "</footer>"
   ]
  }
 ],
 "metadata": {
  "kernelspec": {
   "display_name": "Python 3",
   "language": "python",
   "name": "python3"
  },
  "language_info": {
   "codemirror_mode": {
    "name": "ipython",
    "version": 3
   },
   "file_extension": ".py",
   "mimetype": "text/x-python",
   "name": "python",
   "nbconvert_exporter": "python",
   "pygments_lexer": "ipython3",
   "version": "3.6.6"
  }
 },
 "nbformat": 4,
 "nbformat_minor": 2
}
